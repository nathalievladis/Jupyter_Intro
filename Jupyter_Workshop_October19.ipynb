{
  "cells": [
    {
      "metadata": {},
      "cell_type": "markdown",
      "source": "# Welcome the our Interactive Jupyter Notebook Workshop\n\n## A brief explorarion of the Gapminder dataset\n"
    },
    {
      "metadata": {},
      "cell_type": "markdown",
      "source": "Today, we will simulate a data analysis workflow, which will allow us to play around with some of Jupyter's interactive aspects.\n\nWe will explore part of the **Gapminder** dataset using tools from two very popular R packages: **dplyr** and **ggplot2**. Enjoy!"
    },
    {
      "metadata": {},
      "cell_type": "markdown",
      "source": "## A few words about Gapminder\n\n\nGapminder Foundation is a non-profit venture registered in Stockholm, Sweden, that promotes sustainable global development and achievement of the **United Nations Millennium Development Goals** by increased use and understanding of statistics and other information about social, economic and environmental development at local, national and global levels.\n\n\n<img src=\"https://www.adamvowles.co.uk/wp-content/uploads/2015/05/gapminder.png\" width=\"500\">"
    },
    {
      "metadata": {},
      "cell_type": "markdown",
      "source": "## Let's get started with some data exploration!"
    },
    {
      "metadata": {
        "trusted": true
      },
      "cell_type": "code",
      "source": "\n# First we load all necessary packages for this session from CRAN \n\n# Data analysis packages\nlibrary(dplyr)\nlibrary(ggplot2)\n\n# The package containing our dataset\ninstall.packages('gapminder')\nlibrary(gapminder)",
      "execution_count": null,
      "outputs": []
    },
    {
      "metadata": {},
      "cell_type": "markdown",
      "source": "**Well done!**  We will now take a dive into our dataset."
    },
    {
      "metadata": {
        "trusted": true
      },
      "cell_type": "code",
      "source": "# This allows us to take a sneak peak of our dataset\nhead(gapminder)\n\n# And here we are trying to find out more about the type of variables in gapminder\nstr(gapminder)\n\n# How many entries dows our datset contain?\nnrow(gapminder)",
      "execution_count": null,
      "outputs": []
    },
    {
      "metadata": {
        "trusted": true
      },
      "cell_type": "code",
      "source": "# First we will group all our entries by country to reduce the number of rows\n\ngapminder_mini = gapminder %>%\n    filter(year == 1957) %>%\n    group_by(country)\n\n\n# Let's have a look at the number of entries in gapminder_mini\nnrow(gapminder_mini)\n\n# Check out the average life expectancy in 1957 by using the arithmetic mean - Note: The $ sign, helps us select a variable of interest.\nmean(gapminder_mini$lifeExp)\n\n# It's your turn, I will give your group another year to try out. We will then compare life expectancy and population size for that year!",
      "execution_count": null,
      "outputs": []
    },
    {
      "metadata": {},
      "cell_type": "markdown",
      "source": "**Great work!**\n\n## A quick loook at exploratory plotting!\n\nWe will explore change in population size over time by continent"
    },
    {
      "metadata": {
        "trusted": true
      },
      "cell_type": "code",
      "source": "# First we prepare our data \n\nby_year_continent = gapminder %>%\ngroup_by(year, continent) %>%\nsummarise(meanpop = mean(pop))\n\n# Then we plot! Which continent has seen the steapest increase in population size?\n\nby_year_continent %>% \nggplot(aes(x= year, y = meanpop, color = continent)) + geom_line()\n\n\n# Can you do the same for life expectancy? What did you see?\n",
      "execution_count": null,
      "outputs": []
    },
    {
      "metadata": {},
      "cell_type": "markdown",
      "source": "## We will now focus on the Asian continent to understand the previous result better\n\n\n\n\n\n<img src=\"https://online.seterra.com/images/system/asia-borders.png\" width=\"500\">\n"
    },
    {
      "metadata": {
        "trusted": true
      },
      "cell_type": "code",
      "source": "# Here we use a filter to only keep data from the European continent - make the appropriate changes to isolate data from Asia\n\ngap_asia =  gapminder %>%\n  filter(continent == 'Europe') %>%\n  group_by(year, country) %>%\n  summarise(meanpop = mean(pop))\n\n\n# We will now make a plot to look at pop size in the Asian countries\n\nasia_plot = gap_asia %>%\nggplot(aes(x = year, y = meanpop, color = country)) + geom_line() \n\n\nasia_plot\n\n# We can use a logarithmic tranformation to visualise our data better - Can you propose a trasformation\n",
      "execution_count": null,
      "outputs": []
    },
    {
      "metadata": {},
      "cell_type": "markdown",
      "source": "## Color pallettes\n\nIf the default palette is not working well for you, there are ways to customize the colours in your plots. Here we use **RColorBrewer**.\nHere are some examples: \n\n<img src=\"http://a2.typepad.com/6a0105360ba1c6970c01b7c7187af2970b-800wi\" width=\"700\">\n",
      "attachments": {}
    },
    {
      "metadata": {
        "trusted": true
      },
      "cell_type": "code",
      "source": "# First, let's install a package that contains numerous palettes for R\nlibrary(RColorBrewer)\n\n# After running this chunk of code - experiment with another palette with perhaps more colours\nasia_plot + scale_color_brewer(palette=\"Dark2\")",
      "execution_count": null,
      "outputs": []
    },
    {
      "metadata": {},
      "cell_type": "markdown",
      "source": "## A bonus plot for the road - Looking for relationships in data"
    },
    {
      "metadata": {
        "trusted": true
      },
      "cell_type": "code",
      "source": "# Let's focus now once again on year 1957\n\ngapminder_1957 = gapminder %>%\n  filter(year == 1957)\n\n# Is there a relationship between population size and lide expectancy\ngapminder_1957 %>%\nggplot(aes(x = pop, y = lifeExp)) +  geom_point() \n\n# If this plot was in a Notebook, what would you want to customize? Discuss with your group and we will try it in class.",
      "execution_count": null,
      "outputs": []
    },
    {
      "metadata": {},
      "cell_type": "markdown",
      "source": "# Congratulations on completing this workshop!\n\n<img src=\"https://i.imgflip.com/22dl7c.jpg\" width=\"600\">"
    },
    {
      "metadata": {},
      "cell_type": "markdown",
      "source": "If you would like to get started with Jupyter Notebooks for your own work, feel free to contact me at:\nnathalie_vladis@hms.harvard.edu"
    }
  ],
  "metadata": {
    "kernelspec": {
      "name": "r",
      "display_name": "R",
      "language": "R"
    },
    "language_info": {
      "mimetype": "text/x-r-source",
      "name": "R",
      "pygments_lexer": "r",
      "version": "3.5.3",
      "file_extension": ".r",
      "codemirror_mode": "r"
    }
  },
  "nbformat": 4,
  "nbformat_minor": 2
}