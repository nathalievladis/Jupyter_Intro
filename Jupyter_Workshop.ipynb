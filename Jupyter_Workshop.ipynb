{
 "cells": [
  {
   "cell_type": "markdown",
   "metadata": {},
   "source": [
    "# Welcome the our interactive Jupyter workshop\n"
   ]
  },
  {
   "cell_type": "markdown",
   "metadata": {},
   "source": [
    "Today, we will simulate a data analysis workflow, which will allow us to play around with some of Jupyter's interactive aspects.\n",
    "\n",
    "We will explore part of the **Gapminder** dataset using tools from two very popular R packages: **dplyr** and **ggplot2**. Enjoy!"
   ]
  },
  {
   "cell_type": "markdown",
   "metadata": {},
   "source": [
    "## A few words about Gapminder\n",
    "\n",
    "\n",
    "Gapminder Foundation is a non-profit venture registered in Stockholm, Sweden, that promotes sustainable global development and achievement of the **United Nations Millennium Development Goals** by increased use and understanding of statistics and other information about social, economic and environmental development at local, national and global levels.\n",
    "\n",
    "\n",
    "<img src=\"https://www.adamvowles.co.uk/wp-content/uploads/2015/05/gapminder.png\" width=\"500\">"
   ]
  },
  {
   "cell_type": "markdown",
   "metadata": {},
   "source": [
    "## Let's get started with some data exploration!"
   ]
  },
  {
   "cell_type": "code",
   "execution_count": 1,
   "metadata": {},
   "outputs": [
    {
     "name": "stderr",
     "output_type": "stream",
     "text": [
      "Warning message:\n",
      "\"package 'dplyr' was built under R version 3.6.1\"\n",
      "Attaching package: 'dplyr'\n",
      "\n",
      "The following objects are masked from 'package:stats':\n",
      "\n",
      "    filter, lag\n",
      "\n",
      "The following objects are masked from 'package:base':\n",
      "\n",
      "    intersect, setdiff, setequal, union\n",
      "\n",
      "Warning message:\n",
      "\"package 'ggplot2' was built under R version 3.6.1\"Installing package into 'C:/Users/Nathalie/Documents/R/win-library/3.6'\n",
      "(as 'lib' is unspecified)\n"
     ]
    },
    {
     "name": "stdout",
     "output_type": "stream",
     "text": [
      "package 'gapminder' successfully unpacked and MD5 sums checked\n",
      "\n",
      "The downloaded binary packages are in\n",
      "\tC:\\Users\\Nathalie\\AppData\\Local\\Temp\\RtmpyUNBS5\\downloaded_packages\n"
     ]
    },
    {
     "name": "stderr",
     "output_type": "stream",
     "text": [
      "Warning message:\n",
      "\"package 'gapminder' was built under R version 3.6.1\""
     ]
    }
   ],
   "source": [
    "\n",
    "# First we load all necessary packages for this session from CRAN \n",
    "\n",
    "# Data analysis packages\n",
    "library(dplyr)\n",
    "library(ggplot2)\n",
    "\n",
    "# The package containing our dataset\n",
    "install.packages('gapminder')\n",
    "library(gapminder)"
   ]
  },
  {
   "cell_type": "markdown",
   "metadata": {},
   "source": [
    "**Well done!**  We will now take a dive into our dataset."
   ]
  },
  {
   "cell_type": "code",
   "execution_count": 2,
   "metadata": {},
   "outputs": [
    {
     "data": {
      "text/html": [
       "<table>\n",
       "<caption>A tibble: 6 × 6</caption>\n",
       "<thead>\n",
       "\t<tr><th scope=col>country</th><th scope=col>continent</th><th scope=col>year</th><th scope=col>lifeExp</th><th scope=col>pop</th><th scope=col>gdpPercap</th></tr>\n",
       "\t<tr><th scope=col>&lt;fct&gt;</th><th scope=col>&lt;fct&gt;</th><th scope=col>&lt;int&gt;</th><th scope=col>&lt;dbl&gt;</th><th scope=col>&lt;int&gt;</th><th scope=col>&lt;dbl&gt;</th></tr>\n",
       "</thead>\n",
       "<tbody>\n",
       "\t<tr><td>Afghanistan</td><td>Asia</td><td>1952</td><td>28.801</td><td> 8425333</td><td>779.4453</td></tr>\n",
       "\t<tr><td>Afghanistan</td><td>Asia</td><td>1957</td><td>30.332</td><td> 9240934</td><td>820.8530</td></tr>\n",
       "\t<tr><td>Afghanistan</td><td>Asia</td><td>1962</td><td>31.997</td><td>10267083</td><td>853.1007</td></tr>\n",
       "\t<tr><td>Afghanistan</td><td>Asia</td><td>1967</td><td>34.020</td><td>11537966</td><td>836.1971</td></tr>\n",
       "\t<tr><td>Afghanistan</td><td>Asia</td><td>1972</td><td>36.088</td><td>13079460</td><td>739.9811</td></tr>\n",
       "\t<tr><td>Afghanistan</td><td>Asia</td><td>1977</td><td>38.438</td><td>14880372</td><td>786.1134</td></tr>\n",
       "</tbody>\n",
       "</table>\n"
      ],
      "text/latex": [
       "A tibble: 6 × 6\n",
       "\\begin{tabular}{r|llllll}\n",
       " country & continent & year & lifeExp & pop & gdpPercap\\\\\n",
       " <fct> & <fct> & <int> & <dbl> & <int> & <dbl>\\\\\n",
       "\\hline\n",
       "\t Afghanistan & Asia & 1952 & 28.801 &  8425333 & 779.4453\\\\\n",
       "\t Afghanistan & Asia & 1957 & 30.332 &  9240934 & 820.8530\\\\\n",
       "\t Afghanistan & Asia & 1962 & 31.997 & 10267083 & 853.1007\\\\\n",
       "\t Afghanistan & Asia & 1967 & 34.020 & 11537966 & 836.1971\\\\\n",
       "\t Afghanistan & Asia & 1972 & 36.088 & 13079460 & 739.9811\\\\\n",
       "\t Afghanistan & Asia & 1977 & 38.438 & 14880372 & 786.1134\\\\\n",
       "\\end{tabular}\n"
      ],
      "text/markdown": [
       "\n",
       "A tibble: 6 × 6\n",
       "\n",
       "| country &lt;fct&gt; | continent &lt;fct&gt; | year &lt;int&gt; | lifeExp &lt;dbl&gt; | pop &lt;int&gt; | gdpPercap &lt;dbl&gt; |\n",
       "|---|---|---|---|---|---|\n",
       "| Afghanistan | Asia | 1952 | 28.801 |  8425333 | 779.4453 |\n",
       "| Afghanistan | Asia | 1957 | 30.332 |  9240934 | 820.8530 |\n",
       "| Afghanistan | Asia | 1962 | 31.997 | 10267083 | 853.1007 |\n",
       "| Afghanistan | Asia | 1967 | 34.020 | 11537966 | 836.1971 |\n",
       "| Afghanistan | Asia | 1972 | 36.088 | 13079460 | 739.9811 |\n",
       "| Afghanistan | Asia | 1977 | 38.438 | 14880372 | 786.1134 |\n",
       "\n"
      ],
      "text/plain": [
       "  country     continent year lifeExp pop      gdpPercap\n",
       "1 Afghanistan Asia      1952 28.801   8425333 779.4453 \n",
       "2 Afghanistan Asia      1957 30.332   9240934 820.8530 \n",
       "3 Afghanistan Asia      1962 31.997  10267083 853.1007 \n",
       "4 Afghanistan Asia      1967 34.020  11537966 836.1971 \n",
       "5 Afghanistan Asia      1972 36.088  13079460 739.9811 \n",
       "6 Afghanistan Asia      1977 38.438  14880372 786.1134 "
      ]
     },
     "metadata": {},
     "output_type": "display_data"
    },
    {
     "name": "stdout",
     "output_type": "stream",
     "text": [
      "Classes 'tbl_df', 'tbl' and 'data.frame':\t1704 obs. of  6 variables:\n",
      " $ country  : Factor w/ 142 levels \"Afghanistan\",..: 1 1 1 1 1 1 1 1 1 1 ...\n",
      " $ continent: Factor w/ 5 levels \"Africa\",\"Americas\",..: 3 3 3 3 3 3 3 3 3 3 ...\n",
      " $ year     : int  1952 1957 1962 1967 1972 1977 1982 1987 1992 1997 ...\n",
      " $ lifeExp  : num  28.8 30.3 32 34 36.1 ...\n",
      " $ pop      : int  8425333 9240934 10267083 11537966 13079460 14880372 12881816 13867957 16317921 22227415 ...\n",
      " $ gdpPercap: num  779 821 853 836 740 ...\n"
     ]
    },
    {
     "data": {
      "text/html": [
       "1704"
      ],
      "text/latex": [
       "1704"
      ],
      "text/markdown": [
       "1704"
      ],
      "text/plain": [
       "[1] 1704"
      ]
     },
     "metadata": {},
     "output_type": "display_data"
    }
   ],
   "source": [
    "# This allows us to take a sneak peak of our dataset\n",
    "head(gapminder)\n",
    "\n",
    "# And here we are trying to find out more about the type of variables in gapminder\n",
    "str(gapminder)\n",
    "\n",
    "# How many entries dows our datset contain?\n",
    "nrow(gapminder)"
   ]
  },
  {
   "cell_type": "code",
   "execution_count": 3,
   "metadata": {},
   "outputs": [
    {
     "data": {
      "text/html": [
       "142"
      ],
      "text/latex": [
       "142"
      ],
      "text/markdown": [
       "142"
      ],
      "text/plain": [
       "[1] 142"
      ]
     },
     "metadata": {},
     "output_type": "display_data"
    },
    {
     "data": {
      "text/html": [
       "51.5074011267606"
      ],
      "text/latex": [
       "51.5074011267606"
      ],
      "text/markdown": [
       "51.5074011267606"
      ],
      "text/plain": [
       "[1] 51.5074"
      ]
     },
     "metadata": {},
     "output_type": "display_data"
    }
   ],
   "source": [
    "# First we will group all our entries by country to reduce the number of rows\n",
    "\n",
    "gapminder_mini = gapminder %>%\n",
    "    filter(year == 1957) %>%\n",
    "    group_by(country)\n",
    "\n",
    "\n",
    "# Let's have a look at the number of entries in gapminder_mini\n",
    "nrow(gapminder_mini)\n",
    "\n",
    "# Check out the average life expectancy in 1957 by using the arithmetic mean - Note: The $ sign, helps us select a variable of interest.\n",
    "mean(gapminder_mini$lifeExp)\n",
    "\n",
    "# It's your turn, I will give your group another year to try out. We will then compare life expectancy and population size for that year!"
   ]
  },
  {
   "cell_type": "markdown",
   "metadata": {},
   "source": [
    "**Great work!**\n",
    "\n",
    "## A quick loook at exploratory plotting!\n",
    "\n",
    "We will explore change in population size over time by continent"
   ]
  },
  {
   "cell_type": "code",
   "execution_count": 11,
   "metadata": {},
   "outputs": [
    {
     "data": {
      "image/png": "[encoded data removed]",
      "text/plain": [
       "plot without title"
      ]
     },
     "metadata": {},
     "output_type": "display_data"
    }
   ],
   "source": [
    "# First we prepare our data \n",
    "\n",
    "by_year_continent = gapminder %>%\n",
    "group_by(year, continent) %>%\n",
    "summarise(meanpop = mean(pop))\n",
    "\n",
    "# Then we plot! Which continent has seen the steapest increase in population size?\n",
    "\n",
    "by_year_continent %>% \n",
    "ggplot(aes(x= year, y = meanpop, color = continent)) + geom_line()\n",
    "\n",
    "\n",
    "# Can you do the same for life expectancy? What did you see?\n"
   ]
  },
  {
   "cell_type": "markdown",
   "metadata": {},
   "source": [
    "## We will now focus on the Asian continent to understand the previous result better"
   ]
  },
  {
   "cell_type": "code",
   "execution_count": 13,
   "metadata": {},
   "outputs": [
    {
     "data": {
      "image/png": "[encoded data removed]",
      "text/plain": [
       "plot without title"
      ]
     },
     "metadata": {},
     "output_type": "display_data"
    }
   ],
   "source": [
    "# Here we use a filter to only keep data from the Asian continent\n",
    "\n",
    "gap_asia =  gapminder %>%\n",
    "  filter(continent == 'Asia') %>%\n",
    "  group_by(year, country) %>%\n",
    "  summarise(meanpop = mean(pop))\n",
    "\n",
    "\n",
    "# We will now make a plot to look at pop size in the Asian countries\n",
    "\n",
    "asia_plot = gap_asia %>%\n",
    "ggplot(aes(x = year, y = meanpop, color = country)) + geom_line() \n",
    "\n",
    "\n",
    "asia_plot\n",
    "\n",
    "# We can use a logarithmic tranformation to visualise our data better - Can you propose a trasformation\n"
   ]
  },
  {
   "cell_type": "markdown",
   "metadata": {},
   "source": [
    "## Color pallettes"
   ]
  },
  {
   "cell_type": "code",
   "execution_count": 15,
   "metadata": {},
   "outputs": [
    {
     "name": "stderr",
     "output_type": "stream",
     "text": [
      "Warning message in RColorBrewer::brewer.pal(n, pal):\n",
      "\"n too large, allowed maximum for palette Dark2 is 8\n",
      "Returning the palette you asked for with that many colors\n",
      "\"Warning message:\n",
      "\"Removed 300 rows containing missing values (geom_path).\""
     ]
    },
    {
     "data": {
      "image/png": "[encoded data removed]",
      "text/plain": [
       "plot without title"
      ]
     },
     "metadata": {},
     "output_type": "display_data"
    }
   ],
   "source": [
    "# First, let's install a package that contains numerous palletes for R\n",
    "library(RColorBrewer)\n",
    "\n",
    "asia_plot + scale_color_brewer(palette=\"Dark2\")"
   ]
  },
  {
   "cell_type": "markdown",
   "metadata": {},
   "source": [
    "## A bonus plot for the road - Looking for relationships in data"
   ]
  },
  {
   "cell_type": "code",
   "execution_count": 16,
   "metadata": {},
   "outputs": [
    {
     "data": {
      "image/png": "[encoded data removed]",
      "text/plain": [
       "plot without title"
      ]
     },
     "metadata": {},
     "output_type": "display_data"
    }
   ],
   "source": [
    "# Let's focus now once again on year 1957\n",
    "\n",
    "gapminder_1957 = gapminder %>%\n",
    "  filter(year == 1957)\n",
    "\n",
    "# Is there a relationship between population size and lide expectancy\n",
    "gapminder_1957 %>%\n",
    "ggplot(aes(x = pop, y = lifeExp)) +  geom_point() \n",
    "\n",
    "# If this plot was in a Notebook, what would you want to customize? Discuss with your group and we will try it in class."
   ]
  },
  {
   "cell_type": "markdown",
   "metadata": {},
   "source": [
    "# Congratulations on completing this workshop!\n",
    "\n",
    "<img src=\"https://i.imgflip.com/22dl7c.jpg\" width=\"600\">"
   ]
  },
  {
   "cell_type": "code",
   "execution_count": null,
   "metadata": {},
   "outputs": [],
   "source": []
  }
 ],
 "metadata": {
  "kernelspec": {
   "display_name": "R",
   "language": "R",
   "name": "ir"
  },
  "language_info": {
   "codemirror_mode": "r",
   "file_extension": ".r",
   "mimetype": "text/x-r-source",
   "name": "R",
   "pygments_lexer": "r",
   "version": "3.6.0"
  }
 },
 "nbformat": 4,
 "nbformat_minor": 2
}
